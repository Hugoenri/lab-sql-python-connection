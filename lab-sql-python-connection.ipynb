{
 "cells": [
  {
   "cell_type": "code",
   "execution_count": 3,
   "id": "4d6f535f-a47d-4715-97e6-f1122b010d5a",
   "metadata": {},
   "outputs": [],
   "source": [
    "# 📚 Basic libraries\n",
    "import pandas as pd # data manipulation\n",
    "import numpy as np # numerical operations\n",
    "import warnings # warning messages management\n",
    "# ⚙️ Settings\n",
    "pd.set_option('display.max_columns', None) # display all columns\n",
    "warnings.filterwarnings('ignore') # ignore warnings\n",
    "\n",
    "# 🌐 New Libraries\n",
    "from getpass import getpass # get password without showing it\n",
    "import pymysql # MySQL connection\n",
    "import requests # HTTP requests\n",
    "import time # time operations\n",
    "\n",
    "# ⚙️ Settings\n",
    "pd.set_option('display.max_columns', None) # display all columns\n",
    "warnings.filterwarnings('ignore') # ignore warnings\n",
    "\n",
    "def create_connection(): # create a connection to a MySQL database\n",
    "    \"\"\"\n",
    "    Create a connection to a MySQL database.\n",
    "    Prompts the user for the database password and database name.\n",
    "    \n",
    "    Returns:\n",
    "        cnx: pymysql.connections.Connection object\n",
    "            The connection object to the MySQL database.\n",
    "    \"\"\"\n",
    "    password = getpass.getpass(\"Please, kindly insert your password: \")\n",
    "    database = input(\"Please, kindly insert your database name: \")\n",
    "    cnx = pymysql.connect(user='root', password=password,\n",
    "                          host='localhost', database=database)\n",
    "    if cnx.open:\n",
    "        print(\"Connection open\")\n",
    "    else:\n",
    "        print(\"Connection is not successfully open\")\n",
    "    return cnx"
   ]
  },
  {
   "cell_type": "code",
   "execution_count": 5,
   "id": "1a678cf2-a4c8-4c4a-a08d-27340fbde707",
   "metadata": {},
   "outputs": [
    {
     "name": "stdin",
     "output_type": "stream",
     "text": [
      "Please, kindly insert your password:  ········\n",
      "Please, kindly insert your database name:  sakila\n"
     ]
    },
    {
     "name": "stdout",
     "output_type": "stream",
     "text": [
      "Connection open\n"
     ]
    }
   ],
   "source": [
    "# Pon tu contraseña y la base de datos\n",
    "connection = create_connection()"
   ]
  },
  {
   "cell_type": "code",
   "execution_count": 8,
   "id": "4736f717-3ded-4818-a676-35e58259f3ce",
   "metadata": {},
   "outputs": [
    {
     "data": {
      "text/html": [
       "<div>\n",
       "<style scoped>\n",
       "    .dataframe tbody tr th:only-of-type {\n",
       "        vertical-align: middle;\n",
       "    }\n",
       "\n",
       "    .dataframe tbody tr th {\n",
       "        vertical-align: top;\n",
       "    }\n",
       "\n",
       "    .dataframe thead th {\n",
       "        text-align: right;\n",
       "    }\n",
       "</style>\n",
       "<table border=\"1\" class=\"dataframe\">\n",
       "  <thead>\n",
       "    <tr style=\"text-align: right;\">\n",
       "      <th></th>\n",
       "      <th>actor_id</th>\n",
       "      <th>first_name</th>\n",
       "      <th>last_name</th>\n",
       "      <th>last_update</th>\n",
       "    </tr>\n",
       "  </thead>\n",
       "  <tbody>\n",
       "    <tr>\n",
       "      <th>0</th>\n",
       "      <td>1</td>\n",
       "      <td>PENELOPE</td>\n",
       "      <td>GUINESS</td>\n",
       "      <td>2006-02-15 04:34:33</td>\n",
       "    </tr>\n",
       "    <tr>\n",
       "      <th>1</th>\n",
       "      <td>2</td>\n",
       "      <td>NICK</td>\n",
       "      <td>WAHLBERG</td>\n",
       "      <td>2006-02-15 04:34:33</td>\n",
       "    </tr>\n",
       "    <tr>\n",
       "      <th>2</th>\n",
       "      <td>3</td>\n",
       "      <td>ED</td>\n",
       "      <td>CHASE</td>\n",
       "      <td>2006-02-15 04:34:33</td>\n",
       "    </tr>\n",
       "    <tr>\n",
       "      <th>3</th>\n",
       "      <td>4</td>\n",
       "      <td>JENNIFER</td>\n",
       "      <td>DAVIS</td>\n",
       "      <td>2006-02-15 04:34:33</td>\n",
       "    </tr>\n",
       "    <tr>\n",
       "      <th>4</th>\n",
       "      <td>5</td>\n",
       "      <td>JOHNNY</td>\n",
       "      <td>LOLLOBRIGIDA</td>\n",
       "      <td>2006-02-15 04:34:33</td>\n",
       "    </tr>\n",
       "  </tbody>\n",
       "</table>\n",
       "</div>"
      ],
      "text/plain": [
       "   actor_id first_name     last_name         last_update\n",
       "0         1   PENELOPE       GUINESS 2006-02-15 04:34:33\n",
       "1         2       NICK      WAHLBERG 2006-02-15 04:34:33\n",
       "2         3         ED         CHASE 2006-02-15 04:34:33\n",
       "3         4   JENNIFER         DAVIS 2006-02-15 04:34:33\n",
       "4         5     JOHNNY  LOLLOBRIGIDA 2006-02-15 04:34:33"
      ]
     },
     "execution_count": 8,
     "metadata": {},
     "output_type": "execute_result"
    }
   ],
   "source": [
    "query = \"SELECT * FROM actor;\"  # Replace 'your_table_name' with an actual table name\n",
    "df = pd.read_sql(query, connection)\n",
    "df.head()"
   ]
  },
  {
   "cell_type": "code",
   "execution_count": 30,
   "id": "a5695552-3a99-4a67-88c7-5fe31933750b",
   "metadata": {},
   "outputs": [],
   "source": [
    "def rentals_month(cnx, month, year):\n",
    "    \"\"\"\n",
    "    Retrieve rental data for a given month and year.\n",
    "    \"\"\"\n",
    "    query = f\"\"\"\n",
    "    SELECT customer_id, rental_date\n",
    "    FROM rental\n",
    "    WHERE MONTH(rental_date) = {month} AND YEAR(rental_date) = {year}\n",
    "    \"\"\"\n",
    "    df_rentals = pd.read_sql(query, cnx)\n",
    "    return df_rentals\n"
   ]
  },
  {
   "cell_type": "code",
   "execution_count": 28,
   "id": "ca87cf02-cd90-40e5-91b1-d7e524a2d959",
   "metadata": {},
   "outputs": [],
   "source": [
    "def rental_count_month(df_rentals, month, year):\n",
    "    \"\"\"\n",
    "    Count the number of rentals made by each customer for a given month and year.\n",
    "    \"\"\"\n",
    "    rental_count = df_rentals.groupby('customer_id').size().reset_index(name='rental_count')\n",
    "    rental_count[f'rentals_{month:02d}_{year}'] = rental_count['rental_count']\n",
    "    rental_count = rental_count.drop(columns=['rental_count'])\n",
    "    return rental_count\n"
   ]
  },
  {
   "cell_type": "code",
   "execution_count": 26,
   "id": "bb61e5be-0dff-4311-baf6-3b04aa59b66a",
   "metadata": {},
   "outputs": [],
   "source": [
    "def compare_rentals(df1, df2):\n",
    "    \"\"\"\n",
    "    Compare the rental counts between two DataFrames and calculate the difference.\n",
    "    \"\"\"\n",
    "    # Unir los DataFrames de mayo y junio por customer_id\n",
    "    df_comparison = pd.merge(df1, df2, on='customer_id', how='inner')  # \"inner\" para clientes comunes en ambos meses\n",
    "    \n",
    "    # Calcular la diferencia entre las rentas\n",
    "    df_comparison['difference'] = df_comparison[df2.columns[1]] - df_comparison[df1.columns[1]]\n",
    "    \n",
    "    return df_comparison"
   ]
  },
  {
   "cell_type": "code",
   "execution_count": 24,
   "id": "aaca739e-b471-43f8-b9ef-00f753cf7697",
   "metadata": {},
   "outputs": [
    {
     "name": "stdout",
     "output_type": "stream",
     "text": [
      "     customer_id  rentals_05_2005  rentals_06_2005  difference\n",
      "0              1              2.0              7.0         5.0\n",
      "1              2              1.0              1.0         0.0\n",
      "2              3              2.0              4.0         2.0\n",
      "3              4              NaN              6.0         NaN\n",
      "4              5              3.0              5.0         2.0\n",
      "..           ...              ...              ...         ...\n",
      "593          595              1.0              2.0         1.0\n",
      "594          596              6.0              2.0        -4.0\n",
      "595          597              2.0              3.0         1.0\n",
      "596          598              NaN              1.0         NaN\n",
      "597          599              1.0              4.0         3.0\n",
      "\n",
      "[598 rows x 4 columns]\n"
     ]
    }
   ],
   "source": [
    "# Obtener datos de alquiler para mayo y junio de 2005\n",
    "df_may = rentals_month(connection, 5, 2005)\n",
    "df_june = rentals_month(connection, 6, 2005)\n",
    "\n",
    "# Contar los alquileres por cliente en mayo y junio\n",
    "df_may_count = rental_count_month(df_may, 5, 2005)\n",
    "df_june_count = rental_count_month(df_june, 6, 2005)\n",
    "\n",
    "# Comparar los alquileres de mayo y junio\n",
    "df_comparison = compare_rentals(df_may_count, df_june_count)\n",
    "\n",
    "# Mostrar el resultado\n",
    "print(df_comparison)"
   ]
  },
  {
   "cell_type": "code",
   "execution_count": null,
   "id": "8f1bb89f-005a-439d-98dd-6e9cacd71362",
   "metadata": {},
   "outputs": [],
   "source": []
  },
  {
   "cell_type": "code",
   "execution_count": null,
   "id": "032f7d82-ef52-4a3e-9deb-e1da4182c7c2",
   "metadata": {},
   "outputs": [],
   "source": []
  },
  {
   "cell_type": "code",
   "execution_count": null,
   "id": "2bfcf5a8-d051-45a6-bc5f-537025f15a9d",
   "metadata": {},
   "outputs": [],
   "source": []
  }
 ],
 "metadata": {
  "kernelspec": {
   "display_name": "Python 3 (ipykernel)",
   "language": "python",
   "name": "python3"
  },
  "language_info": {
   "codemirror_mode": {
    "name": "ipython",
    "version": 3
   },
   "file_extension": ".py",
   "mimetype": "text/x-python",
   "name": "python",
   "nbconvert_exporter": "python",
   "pygments_lexer": "ipython3",
   "version": "3.12.4"
  }
 },
 "nbformat": 4,
 "nbformat_minor": 5
}
